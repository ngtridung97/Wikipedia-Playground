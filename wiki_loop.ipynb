{
  "nbformat": 4,
  "nbformat_minor": 0,
  "metadata": {
    "colab": {
      "name": "wiki_loop.ipynb",
      "provenance": [],
      "collapsed_sections": [],
      "authorship_tag": "ABX9TyMSm/ZWoVfxg3M+f1A954As",
      "include_colab_link": true
    },
    "kernelspec": {
      "name": "python3",
      "display_name": "Python 3"
    }
  },
  "cells": [
    {
      "cell_type": "markdown",
      "metadata": {
        "id": "view-in-github",
        "colab_type": "text"
      },
      "source": [
        "<a href=\"https://colab.research.google.com/github/ngtridung97/Wikipedia-Playground/blob/main/wiki_loop.ipynb\" target=\"_parent\"><img src=\"https://colab.research.google.com/assets/colab-badge.svg\" alt=\"Open In Colab\"/></a>"
      ]
    },
    {
      "cell_type": "code",
      "metadata": {
        "id": "bj8sZcj2sPLn"
      },
      "source": [
        "import requests\n",
        "import time\n",
        "from bs4 import BeautifulSoup"
      ],
      "execution_count": null,
      "outputs": []
    },
    {
      "cell_type": "code",
      "metadata": {
        "id": "B879o1osZLC3"
      },
      "source": [
        "target_word = 'Ending'\n",
        "start_url = 'https://en.wikipedia.org/wiki/Special:Random'\n",
        "target_url = 'https://en.wikipedia.org/wiki/' + target_word"
      ],
      "execution_count": null,
      "outputs": []
    },
    {
      "cell_type": "code",
      "metadata": {
        "id": "w0xl7eNmZM8l"
      },
      "source": [
        "# Lmit loop number\n",
        "def continue_crawl(search_history, target_url, max_links=30):\n",
        "    if search_history[-1] == target_url:\t\t\t\t\t\t\t\t\t\t\t\t\t\n",
        "        print('Article ' + target_word + ' is found.')\n",
        "        return False\n",
        "    elif len(search_history) > max_links:\n",
        "        print('Article ' + target_word + ' is aborted at ' + str(max_links) + ' search.')\n",
        "        return False\n",
        "    elif len(search_history) != len(set(search_history)):\n",
        "        search_word = search_history[-1][30:]\n",
        "        print('Article ' + search_word + ' is overlapped.')\n",
        "        return False\n",
        "    else:\n",
        "        return True\n",
        "\n",
        "# Define next url by paragraph\n",
        "def next_url(url, paragraph_no=1, word_no=1):\n",
        "\tresponse = requests.get(url)\n",
        "\thtml = response.text\n",
        "\tsoup = BeautifulSoup(html, 'html.parser')\n",
        "\t\n",
        "\tcontent_div = soup.find(id='mw-content-text').find(class_='mw-parser-output')\n",
        "\n",
        "\tarticle_link = None\n",
        "\ti = 0\n",
        "\tfor paragraph in content_div.find_all('p', recursive=False):\n",
        "\t\tif paragraph.find(class_=lambda x: x not in ['mw-empty-elt']):\n",
        "\t\t\tword = paragraph.find_all('a', recursive=False)\n",
        "\t\t\ti += 1\n",
        "\t\t\tif i == paragraph_no and len(word) >= word_no:\n",
        "\t\t\t\tarticle_link = word[word_no - 1].get('href')\n",
        "\t\t\t\tbreak\n",
        "\n",
        "\tif not article_link:\n",
        "\t\treturn\n",
        "\t\n",
        "\tnext_link = 'https://en.wikipedia.org' + article_link\n",
        "\treturn next_link"
      ],
      "execution_count": null,
      "outputs": []
    },
    {
      "cell_type": "code",
      "metadata": {
        "id": "70cuAp3RZPc9"
      },
      "source": [
        "article_chain = [start_url]\n",
        "\n",
        "print('Start url: ' + start_url)\n",
        "print('Target url: ' + target_url + '\\n')\n",
        "\n",
        "i = 0\n",
        "while continue_crawl(article_chain, target_url):\n",
        "\tprint('Looping ' + str(i).zfill(2) + ': ' + article_chain[-1])\n",
        "\tnext_link = next_url(article_chain[-1])\n",
        "\ti += 1\n",
        "\n",
        "\tif not next_link:\n",
        "\t\tprint('Article ' + target_word +  ' is aborted, no next link found.')\n",
        "\t\tbreak\n",
        "\t\n",
        "\tarticle_chain.append(next_link)\n",
        "\ttime.sleep(0.25)\n",
        "\n",
        "print('\\nDone!')"
      ],
      "execution_count": null,
      "outputs": []
    }
  ]
}